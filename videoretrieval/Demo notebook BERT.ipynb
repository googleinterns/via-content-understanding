{
  "nbformat": 4,
  "nbformat_minor": 0,
  "metadata": {
    "accelerator": "GPU",
    "colab": {
      "name": "Demo notebook BERT.ipynb",
      "provenance": []
    },
    "environment": {
      "name": "tf2-2-2-gpu.2-2.m50",
      "type": "gcloud",
      "uri": "gcr.io/deeplearning-platform-release/tf2-2-2-gpu.2-2:m50"
    },
    "kernelspec": {
      "display_name": "Python 3",
      "language": "python",
      "name": "python3"
    },
    "language_info": {
      "codemirror_mode": {
        "name": "ipython",
        "version": 3
      },
      "file_extension": ".py",
      "mimetype": "text/x-python",
      "name": "python",
      "nbconvert_exporter": "python",
      "pygments_lexer": "ipython3",
      "version": "3.7.6"
    }
  },
  "cells": [
    {
      "cell_type": "markdown",
      "metadata": {
        "colab_type": "text",
        "id": "-riod-c1qDmD"
      },
      "source": [
        "# Training Collaborative Experts on MSR-VTT\n",
        "This notebook shows how to download code that trains a modified Collaborative Experts model with BERT + CLS + NetVLAD on the MSR-VTT Dataset.\n"
      ]
    },
    {
      "cell_type": "markdown",
      "metadata": {
        "colab_type": "text",
        "id": "tCU_oZHZVDBI"
      },
      "source": [
        "## Setup\n",
        "\n",
        "*   Download Code and Dependencies\n",
        "*   Import Modules\n",
        "*   Download Language Model Weights\n",
        "*   Download Datasets\n",
        "*   Generate Encodings for Dataset Captions \n",
        "\n"
      ]
    },
    {
      "cell_type": "markdown",
      "metadata": {
        "colab_type": "text",
        "id": "GdF8OtEqpgOF"
      },
      "source": [
        "### Code Downloading and Dependency Downloading\n",
        "*   Specify tensorflow version\n",
        "*   Clone repository from Github\n",
        "*   `cd` into the correct directory\n",
        "*   Install the requirements\n",
        "\n",
        "\n"
      ]
    },
    {
      "cell_type": "code",
      "metadata": {
        "id": "ZMm0sLzGPXU7",
        "colab_type": "code",
        "colab": {}
      },
      "source": [
        "%tensorflow_version 2.x"
      ],
      "execution_count": null,
      "outputs": []
    },
    {
      "cell_type": "code",
      "metadata": {
        "colab_type": "code",
        "id": "B2AMslxtpQZD",
        "colab": {}
      },
      "source": [
        "!git clone https://github.com/googleinterns/via-content-understanding.git"
      ],
      "execution_count": null,
      "outputs": []
    },
    {
      "cell_type": "code",
      "metadata": {
        "id": "XKdy_I-8GqLq",
        "colab_type": "code",
        "colab": {}
      },
      "source": [
        "%cd via-content-understanding/videoretrieval/"
      ],
      "execution_count": null,
      "outputs": []
    },
    {
      "cell_type": "code",
      "metadata": {
        "colab_type": "code",
        "id": "KDPlm45Jp2O3",
        "colab": {}
      },
      "source": [
        "!pip install -r requirements.txt"
      ],
      "execution_count": null,
      "outputs": []
    },
    {
      "cell_type": "code",
      "metadata": {
        "id": "MdSVzgnnCYkd",
        "colab_type": "code",
        "colab": {}
      },
      "source": [
        "!pip install --upgrade tensorflow_addons"
      ],
      "execution_count": null,
      "outputs": []
    },
    {
      "cell_type": "markdown",
      "metadata": {
        "colab_type": "text",
        "id": "DSR9PegNqF0T"
      },
      "source": [
        "### Importing Modules"
      ]
    },
    {
      "cell_type": "code",
      "metadata": {
        "colab_type": "code",
        "id": "fDfTR0tMqVRv",
        "colab": {}
      },
      "source": [
        "import tensorflow as tf\n",
        "import languagemodels\n",
        "import train.encoder_datasets\n",
        "import train.language_model\n",
        "import experts\n",
        "import datasets\n",
        "import datasets.msrvtt.constants\n",
        "import os\n",
        "import models.components\n",
        "import models.encoder\n",
        "import helper.precomputed_features\n",
        "from tensorflow_addons.activations import mish  \n",
        "import tensorflow_addons as tfa\n",
        "import metrics.loss"
      ],
      "execution_count": null,
      "outputs": []
    },
    {
      "cell_type": "markdown",
      "metadata": {
        "colab_type": "text",
        "id": "J2x3n7XnUuuv"
      },
      "source": [
        "### Language Model Downloading\n",
        "\n",
        "*   Download BERT\n",
        "\n"
      ]
    },
    {
      "cell_type": "code",
      "metadata": {
        "colab_type": "code",
        "id": "C67-PI60q_mj",
        "colab": {}
      },
      "source": [
        "bert_model = languagemodels.BERTModel()"
      ],
      "execution_count": null,
      "outputs": []
    },
    {
      "cell_type": "markdown",
      "metadata": {
        "colab_type": "text",
        "id": "RV7khisMrCwS"
      },
      "source": [
        "### Dataset downloading\n",
        "\n",
        "\n",
        "*   Downlaod Datasets\n",
        "*   Download Precomputed Features\n",
        "\n"
      ]
    },
    {
      "cell_type": "code",
      "metadata": {
        "colab_type": "code",
        "id": "GJubU9blqsQg",
        "colab": {}
      },
      "source": [
        "datasets.msrvtt_dataset.download_dataset()"
      ],
      "execution_count": null,
      "outputs": []
    },
    {
      "cell_type": "markdown",
      "metadata": {
        "id": "zLBb-2SDKFLd",
        "colab_type": "text"
      },
      "source": [
        "Note: The system `curl` is more memory efficent than the download function in our codebase, so here `curl` is used rather than the download function in our codebase."
      ]
    },
    {
      "cell_type": "code",
      "metadata": {
        "colab_type": "code",
        "id": "6XU8-EHYwOxS",
        "colab": {}
      },
      "source": [
        "url = datasets.msrvtt.constants.features_tar_url\n",
        "path = datasets.msrvtt.constants.features_tar_path\n",
        "os.system(f\"curl {url} > {path}\") "
      ],
      "execution_count": null,
      "outputs": []
    },
    {
      "cell_type": "code",
      "metadata": {
        "colab_type": "code",
        "id": "uSFVB5YmuDsw",
        "colab": {}
      },
      "source": [
        "helper.precomputed_features.cache_features(\n",
        "    datasets.msrvtt_dataset,\n",
        "    datasets.msrvtt.constants.expert_to_features,\n",
        "    datasets.msrvtt.constants.features_tar_path,)"
      ],
      "execution_count": null,
      "outputs": []
    },
    {
      "cell_type": "markdown",
      "metadata": {
        "colab_type": "text",
        "id": "iYAMHUVuU2_K"
      },
      "source": [
        "### Encoding Generation\n",
        "\n",
        "* Generate Encodings for MSR-VTT"
      ]
    },
    {
      "cell_type": "code",
      "metadata": {
        "colab_type": "code",
        "id": "AqXjJxD1rQ_Z",
        "colab": {}
      },
      "source": [
        "train.language_model.generate_and_cache_encodings(\n",
        "    bert_model, datasets.msrvtt_dataset)"
      ],
      "execution_count": null,
      "outputs": []
    },
    {
      "cell_type": "markdown",
      "metadata": {
        "colab_type": "text",
        "id": "aBhEfB5HVKGA"
      },
      "source": [
        "## Training\n",
        "\n",
        "\n",
        "*  Build Train Datasets\n",
        "*  Initialize Models\n",
        "*  Compile Encoders\n",
        "*  Fit Model\n",
        "* Test Model\n"
      ]
    },
    {
      "cell_type": "markdown",
      "metadata": {
        "colab_type": "text",
        "id": "-Wmv-psArf_T"
      },
      "source": [
        "### Datasets Generation"
      ]
    },
    {
      "cell_type": "code",
      "metadata": {
        "colab_type": "code",
        "id": "6cWm7B2AzI5n",
        "colab": {}
      },
      "source": [
        "experts_used = [\n",
        "  experts.i3d,\n",
        "  experts.r2p1d,\n",
        "  experts.resnext,\n",
        "  experts.senet,\n",
        "  experts.speech_expert,\n",
        "  experts.ocr_expert,\n",
        "  experts.audio_expert,\n",
        "  experts.densenet,\n",
        "  experts.face_expert]"
      ],
      "execution_count": null,
      "outputs": []
    },
    {
      "cell_type": "code",
      "metadata": {
        "colab_type": "code",
        "id": "QVo0XXxwz6uk",
        "colab": {}
      },
      "source": [
        "train_ds, valid_ds, test_ds = (\n",
        "    train.encoder_datasets.generate_language_model_fine_tuning_datasets(\n",
        "        bert_model, datasets.msrvtt_dataset, experts_used))"
      ],
      "execution_count": null,
      "outputs": []
    },
    {
      "cell_type": "markdown",
      "metadata": {
        "colab_type": "text",
        "id": "u4WlYuPf2FIW"
      },
      "source": [
        "### Model Initialization"
      ]
    },
    {
      "cell_type": "code",
      "metadata": {
        "colab_type": "code",
        "id": "RAY8d5cV4SVv",
        "colab": {}
      },
      "source": [
        "class MishLayer(tf.keras.layers.Layer):\n",
        "    def call(self, inputs):\n",
        "        return mish(inputs)"
      ],
      "execution_count": null,
      "outputs": []
    },
    {
      "cell_type": "code",
      "metadata": {
        "id": "PwkfTew7_ruT",
        "colab_type": "code",
        "colab": {}
      },
      "source": [
        "mish(tf.Variable([1.0]))"
      ],
      "execution_count": null,
      "outputs": []
    },
    {
      "cell_type": "code",
      "metadata": {
        "colab_type": "code",
        "id": "jkcK4kff2QLJ",
        "colab": {}
      },
      "source": [
        "text_encoder = models.components.TextEncoder(\n",
        "    len(experts_used),\n",
        "    num_netvlad_clusters=28,\n",
        "    ghost_clusters=1,\n",
        "    language_model_dimensionality=768,\n",
        "    encoded_expert_dimensionality=512,\n",
        "    residual_cls_token=True,\n",
        ")"
      ],
      "execution_count": null,
      "outputs": []
    },
    {
      "cell_type": "code",
      "metadata": {
        "colab_type": "code",
        "id": "O20Oc2KO2SC8",
        "colab": {}
      },
      "source": [
        "video_encoder = models.components.VideoEncoder(\n",
        "    num_experts=len(experts_used),\n",
        "    experts_use_netvlad=[False, False, False, False, True, True, True, False, False],\n",
        "    experts_netvlad_shape=[None, None, None, None, 19, 43, 8, None, None],\n",
        "    expert_aggregated_size=512,\n",
        "    encoded_expert_dimensionality=512,\n",
        "    g_mlp_layers=3,\n",
        "    h_mlp_layers=0,\n",
        "    make_activation_layer=MishLayer)"
      ],
      "execution_count": null,
      "outputs": []
    },
    {
      "cell_type": "code",
      "metadata": {
        "colab_type": "code",
        "id": "ZI5L6UZY4kYf",
        "colab": {}
      },
      "source": [
        "encoder = models.encoder.EncoderForLanguageModelTuning(\n",
        "    video_encoder,\n",
        "    text_encoder,\n",
        "    0.05,\n",
        "    [1, 5, 10, 50],\n",
        "    20,\n",
        "    bert_model.model,\n",
        "    64)"
      ],
      "execution_count": null,
      "outputs": []
    },
    {
      "cell_type": "markdown",
      "metadata": {
        "colab_type": "text",
        "id": "5OS5V-Az4ezE"
      },
      "source": [
        "### Encoder Compliation"
      ]
    },
    {
      "cell_type": "code",
      "metadata": {
        "colab_type": "code",
        "id": "4F7Pk56z2r7v",
        "colab": {}
      },
      "source": [
        "def build_optimizer(lr=0.001):\n",
        "    learning_rate_scheduler = tf.keras.optimizers.schedules.ExponentialDecay(\n",
        "        initial_learning_rate=lr,\n",
        "        decay_steps=1000,\n",
        "        decay_rate=0.95,\n",
        "        staircase=True)\n",
        "\n",
        "    return tf.keras.optimizers.Adam(learning_rate_scheduler)"
      ],
      "execution_count": null,
      "outputs": []
    },
    {
      "cell_type": "code",
      "metadata": {
        "colab_type": "code",
        "id": "ddtyprGp4fqQ",
        "colab": {}
      },
      "source": [
        "encoder.compile(build_optimizer(5e-5), metrics.loss.bidirectional_max_margin_ranking_loss)"
      ],
      "execution_count": null,
      "outputs": []
    },
    {
      "cell_type": "code",
      "metadata": {
        "colab_type": "code",
        "id": "IAHeMjqd4juz",
        "colab": {}
      },
      "source": [
        "train_ds_prepared = (train_ds\n",
        "  .shuffle(7000)\n",
        "  .batch(32, drop_remainder=True)\n",
        "  .prefetch(tf.data.experimental.AUTOTUNE))\n",
        "valid_ds_prepared = (valid_ds\n",
        "  .prefetch(tf.data.experimental.AUTOTUNE)\n",
        "  .batch(497 * 20, drop_remainder=True)\n",
        "  .cache())"
      ],
      "execution_count": null,
      "outputs": []
    },
    {
      "cell_type": "code",
      "metadata": {
        "colab_type": "code",
        "id": "_CXETTHX4z4x",
        "colab": {}
      },
      "source": [
        "encoder.language_model.trainable = True\n",
        "encoder.video_encoder.trainable = True\n",
        "encoder.text_encoder.trainable = True"
      ],
      "execution_count": null,
      "outputs": []
    },
    {
      "cell_type": "markdown",
      "metadata": {
        "colab_type": "text",
        "id": "zJ4s_zNRVfFY"
      },
      "source": [
        "### Model fitting"
      ]
    },
    {
      "cell_type": "code",
      "metadata": {
        "colab_type": "code",
        "id": "n7f681Tz43JM",
        "colab": {}
      },
      "source": [
        "encoder.fit(\n",
        "    train_ds_prepared,\n",
        "    #validation_data=valid_ds_prepared,\n",
        "    epochs=250,\n",
        ")"
      ],
      "execution_count": null,
      "outputs": []
    },
    {
      "cell_type": "markdown",
      "metadata": {
        "id": "geucZ4bz_ruz",
        "colab_type": "text"
      },
      "source": [
        "### Tests"
      ]
    },
    {
      "cell_type": "code",
      "metadata": {
        "id": "vwGuiN4N_ru0",
        "colab_type": "code",
        "colab": {}
      },
      "source": [
        "captions_per_video = 20\n",
        "num_videos_upper_bound = 100000 "
      ],
      "execution_count": null,
      "outputs": []
    },
    {
      "cell_type": "code",
      "metadata": {
        "id": "d4K5rAas_ru3",
        "colab_type": "code",
        "colab": {}
      },
      "source": [
        "ranks = []\n",
        "\n",
        "for caption_index in range(captions_per_video):\n",
        "    batch = next(iter(test_ds.shard(captions_per_video, caption_index).batch(\n",
        "        num_videos_upper_bound)))\n",
        "    video_embeddings, text_embeddings, mixture_weights = encoder.forward_pass(\n",
        "        batch, training=False)\n",
        "    \n",
        "    similarity_matrix = metrics.loss.build_similarity_matrix(\n",
        "        video_embeddings,\n",
        "        text_embeddings,\n",
        "        mixture_weights,\n",
        "        batch[-1])\n",
        "    rankings = metrics.rankings.compute_ranks(similarity_matrix)\n",
        "    ranks += list(rankings.numpy())"
      ],
      "execution_count": null,
      "outputs": []
    },
    {
      "cell_type": "code",
      "metadata": {
        "id": "tBWr_By9_ru6",
        "colab_type": "code",
        "colab": {}
      },
      "source": [
        "def recall_at_k(ranks, k):\n",
        "    return len(list(filter(lambda i: i <= k, ranks))) / len(ranks)"
      ],
      "execution_count": null,
      "outputs": []
    },
    {
      "cell_type": "code",
      "metadata": {
        "id": "CYCrqzLR_ru9",
        "colab_type": "code",
        "colab": {}
      },
      "source": [
        "median_rank = sorted(ranks)[len(ranks)//2]"
      ],
      "execution_count": null,
      "outputs": []
    },
    {
      "cell_type": "code",
      "metadata": {
        "id": "s7wzKKVc_rvC",
        "colab_type": "code",
        "colab": {}
      },
      "source": [
        "mean_rank = sum(ranks)/len(ranks)"
      ],
      "execution_count": null,
      "outputs": []
    },
    {
      "cell_type": "code",
      "metadata": {
        "id": "GkT7kke2_rvF",
        "colab_type": "code",
        "colab": {}
      },
      "source": [
        "print(f\"Median Rank: {median_rank}\")"
      ],
      "execution_count": null,
      "outputs": []
    },
    {
      "cell_type": "code",
      "metadata": {
        "id": "QH2ppC2o_rvI",
        "colab_type": "code",
        "colab": {}
      },
      "source": [
        "print(f\"Mean Rank: {mean_rank}\")"
      ],
      "execution_count": null,
      "outputs": []
    },
    {
      "cell_type": "code",
      "metadata": {
        "id": "ZuNvFRzM_rvL",
        "colab_type": "code",
        "colab": {}
      },
      "source": [
        "for k in [1, 5, 10, 50]:\n",
        "    recall = recall_at_k(ranks, k)\n",
        "    print(f\"R@{k}: {recall}\")"
      ],
      "execution_count": null,
      "outputs": []
    },
    {
      "cell_type": "code",
      "metadata": {
        "id": "ofzd9HT__rvO",
        "colab_type": "code",
        "colab": {}
      },
      "source": [
        ""
      ],
      "execution_count": null,
      "outputs": []
    }
  ]
}